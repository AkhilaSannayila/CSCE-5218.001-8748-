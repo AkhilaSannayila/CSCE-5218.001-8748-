{
  "cells": [
    {
      "cell_type": "markdown",
      "metadata": {
        "id": "vYiZq0X2oB5t"
      },
      "source": [
        "# **CSCE 5218 / CSCE 4930 Deep Learning**\n",
        "\n",
        "# **The Perceptron** (20 pt)\n"
      ]
    },
    {
      "cell_type": "code",
      "execution_count": 1,
      "metadata": {
        "colab": {
          "base_uri": "https://localhost:8080/"
        },
        "id": "vGVmKzgG2Ium",
        "outputId": "54caa5d3-1a16-4f31-e6f1-1757651b6e65"
      },
      "outputs": [
        {
          "output_type": "execute_result",
          "data": {
            "text/plain": [
              "['  % Total    % Received % Xferd  Average Speed   Time    Time     Time  Current',\n",
              " '                                 Dload  Upload   Total   Spent    Left  Speed',\n",
              " '',\n",
              " '  0     0    0     0    0     0      0      0 --:--:-- --:--:-- --:--:--     0',\n",
              " '100 11645  100 11645    0     0  34829      0 --:--:-- --:--:-- --:--:-- 34865']"
            ]
          },
          "metadata": {},
          "execution_count": 1
        }
      ],
      "source": [
        "# Get the datasets\n",
        "!!/usr/bin/curl --output test.dat https://raw.githubusercontent.com/huangyanann/CSCE5218/main/test_small.txt\n",
        "!!/usr/bin/curl --output train.dat https://raw.githubusercontent.com/huangyanann/CSCE5218/main/train.txt\n"
      ]
    },
    {
      "cell_type": "code",
      "execution_count": 2,
      "metadata": {
        "colab": {
          "base_uri": "https://localhost:8080/"
        },
        "id": "A69DxPSc8vNs",
        "outputId": "abc2ec3e-3ad5-426b-ccb3-305b78c26d0a"
      },
      "outputs": [
        {
          "output_type": "stream",
          "name": "stdout",
          "text": [
            "A1\tA2\tA3\tA4\tA5\tA6\tA7\tA8\tA9\tA10\tA11\tA12\tA13\t\r\n",
            "1\t1\t0\t0\t0\t0\t0\t0\t1\t1\t0\t0\t1\t0\r\n",
            "0\t0\t1\t1\t0\t1\t1\t0\t0\t0\t0\t0\t1\t0\r\n",
            "0\t1\t0\t1\t1\t0\t1\t0\t1\t1\t1\t0\t1\t1\r\n",
            "0\t0\t1\t0\t0\t1\t0\t1\t0\t1\t1\t1\t1\t0\r\n",
            "0\t1\t0\t0\t0\t0\t0\t1\t1\t1\t1\t1\t1\t0\r\n",
            "0\t1\t1\t1\t0\t0\t0\t1\t0\t1\t1\t0\t1\t1\r\n",
            "0\t1\t1\t0\t0\t0\t1\t0\t0\t0\t0\t0\t1\t0\r\n",
            "0\t0\t0\t1\t1\t0\t1\t1\t1\t0\t0\t0\t1\t0\r\n",
            "0\t0\t0\t0\t0\t0\t1\t0\t1\t0\t1\t0\t1\t0\n",
            "X1\tX2\tX3\n",
            "1\t1\t1\t1\n",
            "0\t0\t1\t1\n",
            "0\t1\t1\t0\n",
            "0\t1\t1\t0\n",
            "0\t1\t1\t0\n",
            "0\t1\t1\t0\n",
            "0\t1\t1\t0\n",
            "0\t1\t1\t0\n",
            "1\t1\t1\t1\n"
          ]
        }
      ],
      "source": [
        "# Take a peek at the datasets\n",
        "!head train.dat\n",
        "!head test.dat"
      ]
    },
    {
      "cell_type": "markdown",
      "metadata": {
        "id": "rFXHLhnhwiBR"
      },
      "source": [
        "### Build the Perceptron Model\n",
        "\n",
        "You will need to complete some of the function definitions below.  DO NOT import any other libraries to complete this."
      ]
    },
    {
      "cell_type": "code",
      "execution_count": 3,
      "metadata": {
        "id": "cXAsP_lw3QwJ"
      },
      "outputs": [],
      "source": [
        "import math\n",
        "import itertools\n",
        "import re\n",
        "\n",
        "\n",
        "# Corpus reader, all columns but the last one are coordinates;\n",
        "#   the last column is the label\n",
        "def read_data(file_name):\n",
        "    f = open(file_name, 'r')\n",
        "\n",
        "    data = []\n",
        "    # Discard header line\n",
        "    f.readline()\n",
        "    for instance in f.readlines():\n",
        "        if not re.search('\\t', instance): continue\n",
        "        instance = list(map(int, instance.strip().split('\\t')))\n",
        "        # Add a dummy input so that w0 becomes the bias\n",
        "        instance = [-1] + instance\n",
        "        data += [instance]\n",
        "    return data\n",
        "\n",
        "\n",
        "def dot_product(array1, array2):\n",
        "    #TODO: Return dot product of array 1 and array 2\n",
        "    return NotImplemented\n",
        "\n",
        "\n",
        "def sigmoid(x):\n",
        "    #TODO: Return outpout of sigmoid function on x\n",
        "    return NotImplemented\n",
        "\n",
        "# The output of the model, which for the perceptron is\n",
        "# the sigmoid function applied to the dot product of\n",
        "# the instance and the weights\n",
        "def output(weight, instance):\n",
        "    #TODO: return the output of the model\n",
        "    return NotImplemented\n",
        "\n",
        "# Predict the label of an instance; this is the definition of the perceptron\n",
        "# you should output 1 if the output is >= 0.5 else output 0\n",
        "def predict(weights, instance):\n",
        "    #TODO: return the prediction of the model\n",
        "    return NotImplemented\n",
        "\n",
        "\n",
        "# Accuracy = percent of correct predictions\n",
        "def get_accuracy(weights, instances):\n",
        "    # You do not to write code like this, but get used to it\n",
        "    correct = sum([1 if predict(weights, instance) == instance[-1] else 0\n",
        "                   for instance in instances])\n",
        "    return correct * 100 / len(instances)\n",
        "\n",
        "\n",
        "# Train a perceptron with instances and hyperparameters:\n",
        "#       lr (learning rate)\n",
        "#       epochs\n",
        "# The implementation comes from the definition of the perceptron\n",
        "#\n",
        "# Training consists on fitting the parameters which are the weights\n",
        "# that's the only thing training is responsible to fit\n",
        "# (recall that w0 is the bias, and w1..wn are the weights for each coordinate)\n",
        "#\n",
        "# Hyperparameters (lr and epochs) are given to the training algorithm\n",
        "# We are updating weights in the opposite direction of the gradient of the error,\n",
        "# so with a \"decent\" lr we are guaranteed to reduce the error after each iteration.\n",
        "def train_perceptron(instances, lr, epochs):\n",
        "\n",
        "    #TODO: name this step\n",
        "    weights = [0] * (len(instances[0])-1)\n",
        "\n",
        "    for _ in range(epochs):\n",
        "        for instance in instances:\n",
        "            #TODO: name these steps\n",
        "            in_value = dot_product(weights, instance)\n",
        "            output = sigmoid(in_value)\n",
        "            error = instance[-1] - output\n",
        "            #TODO: name these steps\n",
        "            for i in range(0, len(weights)):\n",
        "                weights[i] += lr * error * output * (1-output) * instance[i]\n",
        "\n",
        "    return weights"
      ]
    },
    {
      "cell_type": "markdown",
      "source": [
        "**Code with added Functions**"
      ],
      "metadata": {
        "id": "cLJt5-nBi_Mc"
      }
    },
    {
      "cell_type": "code",
      "source": [
        "import math\n",
        "import itertools\n",
        "import re\n",
        "\n",
        "def read_data(file_name):\n",
        "    f = open(file_name, 'r')\n",
        "    data = []\n",
        "    # Discard header line\n",
        "    f.readline()\n",
        "    for instance in f.readlines():\n",
        "        if not re.search('\\t', instance):\n",
        "            continue\n",
        "        instance = list(map(int, instance.strip().split('\\t')))\n",
        "        # Add a dummy input so that w0 becomes the bias\n",
        "        instance = [-1] + instance\n",
        "        data += [instance]\n",
        "    f.close()  # It's good practice to close the file after reading\n",
        "    return data\n",
        "\n",
        "def dot_product(array1, array2):\n",
        "    # Calculate dot product of two arrays\n",
        "    return sum(a * b for a, b in zip(array1, array2))\n",
        "\n",
        "def sigmoid(x):\n",
        "    # Calculate the sigmoid function\n",
        "    return 1 / (1 + math.exp(-x))\n",
        "\n",
        "def output(weight, instance):\n",
        "    # Calculate the output of the model\n",
        "    return sigmoid(dot_product(weight, instance[:-1]))\n",
        "\n",
        "def predict(weights, instance):\n",
        "    # Predict the label based on the model output\n",
        "    return 1 if output(weights, instance) >= 0.5 else 0\n",
        "\n",
        "def get_accuracy(weights, instances):\n",
        "    correct = sum(1 for instance in instances if predict(weights, instance) == instance[-1])\n",
        "    return correct * 100 / len(instances)\n",
        "\n",
        "def train_perceptron(instances, lr, epochs):\n",
        "    # Initialize weights to zeros\n",
        "    weights = [0] * (len(instances[0])-1)\n",
        "\n",
        "    for _ in range(epochs):\n",
        "        for instance in instances:\n",
        "            # Calculate dot product of weights and instance\n",
        "            in_value = dot_product(weights, instance[:-1])\n",
        "            # Compute the sigmoid of the dot product\n",
        "            output = sigmoid(in_value)\n",
        "            # Calculate the error as the difference between target and prediction\n",
        "            error = instance[-1] - output\n",
        "            # Gradient update step: update weights based on the error and the gradient\n",
        "            for i in range(len(weights)):\n",
        "                weights[i] += lr * error * output * (1 - output) * instance[i]\n",
        "\n",
        "    return weights\n"
      ],
      "metadata": {
        "id": "KVDIhCDhi_9p"
      },
      "execution_count": 4,
      "outputs": []
    },
    {
      "cell_type": "markdown",
      "metadata": {
        "id": "adBZuMlAwiBT"
      },
      "source": [
        "## Run it"
      ]
    },
    {
      "cell_type": "code",
      "execution_count": 6,
      "metadata": {
        "id": "50YvUza-BYQF",
        "colab": {
          "base_uri": "https://localhost:8080/"
        },
        "outputId": "8e75d8bd-744d-42f2-bbfa-0e14142fa8f4"
      },
      "outputs": [
        {
          "output_type": "stream",
          "name": "stdout",
          "text": [
            "#tr: 400, epochs:   5, learning rate: 0.005; Accuracy (test, 14 instances): 71.4\n"
          ]
        }
      ],
      "source": [
        "instances_tr = read_data(\"train.dat\")\n",
        "instances_te = read_data(\"test.dat\")\n",
        "lr = 0.005\n",
        "epochs = 5\n",
        "weights = train_perceptron(instances_tr, lr, epochs)\n",
        "accuracy = get_accuracy(weights, instances_te)\n",
        "print(f\"#tr: {len(instances_tr):3}, epochs: {epochs:3}, learning rate: {lr:.3f}; \"\n",
        "      f\"Accuracy (test, {len(instances_te)} instances): {accuracy:.1f}\")"
      ]
    },
    {
      "cell_type": "markdown",
      "metadata": {
        "id": "CBXkvaiQMohX"
      },
      "source": [
        "## Questions\n",
        "\n",
        "Answer the following questions. Include your implementation and the output for each question."
      ]
    },
    {
      "cell_type": "markdown",
      "metadata": {
        "id": "YCQ6BEk1CBlr"
      },
      "source": [
        "\n",
        "\n",
        "### Question 1\n",
        "\n",
        "In `train_perceptron(instances, lr, epochs)`, we have the follosing code:\n",
        "```\n",
        "in_value = dot_product(weights, instance)\n",
        "output = sigmoid(in_value)\n",
        "error = instance[-1] - output\n",
        "```\n",
        "\n",
        "Why don't we have the following code snippet instead?\n",
        "```\n",
        "output = predict(weights, instance)\n",
        "error = instance[-1] - output\n",
        "```\n",
        "\n",
        "#### TODO Add your answer here (text only)\n",
        "\n",
        "\n"
      ]
    },
    {
      "cell_type": "markdown",
      "source": [
        "**Q1 Answer:**\n",
        "**Binary vs. Continuous Output:** The sigmoid of the dot product of inputs and weights is used in the first piece of code to compute the continuous output. This continuous output is required during a perceptron's training phase, when the gradient for adjusting the weights is calculated using the raw scores. In order to calculate the error as a gradient of a loss function, the sigmoid function offers a smooth probability estimate between 0 and 1.\n",
        "\n",
        "**Gradient and Learning:** The difference between the actual label (instance[-1]) and the anticipated probability is the gradient that is utilized to update the weights. The sigmoid function's actual output, not merely a binary classification, is needed for this gradient computation. The model can determine how far off the forecast was and which direction the weights need to be modified by using the sigmoid's continuous output.\n",
        "\n",
        "**The goal of forecasting Function:** In contrast, the predict function returns a binary class label (0 or 1). It is intended for use at the inference stage, when the final classification outcome—rather than the probabilities—is all that matters. To determine the class label, it adds a threshold (0.5) to the sigmoid output.\n",
        "\n",
        "**Error Calculation:** If predict were used in the training loop, the error would be determined using binary outcomes (0 or 1), which would not offer helpful learning gradients. Binary outputs would simply indicate whether the predictions were correct or incorrect, not \"how wrong\" or \"how right.\" Because the model was unable to fine-tune the weights, the training process would be less successful."
      ],
      "metadata": {
        "id": "ohCcr1yfpmlM"
      }
    },
    {
      "cell_type": "markdown",
      "metadata": {
        "id": "JU3c3m6YL2rK"
      },
      "source": [
        "### Question 2\n",
        "Train the perceptron with the following hyperparameters and calculate the accuracy with the test dataset.\n",
        "\n",
        "```\n",
        "tr_percent = [5, 10, 25, 50, 75, 100] # percent of the training dataset to train with\n",
        "num_epochs = [5, 10, 20, 50, 100]              # number of epochs\n",
        "lr = [0.005, 0.01, 0.05]              # learning rate\n",
        "```\n",
        "\n",
        "TODO: Write your code below and include the output at the end of each training loop (NOT AFTER EACH EPOCH)\n",
        "of your code.The output should look like the following:\n",
        "```\n",
        "# tr:  20, epochs:   5, learning rate: 0.005; Accuracy (test, 100 instances): 68.0\n",
        "# tr:  20, epochs:  10, learning rate: 0.005; Accuracy (test, 100 instances): 68.0\n",
        "# tr:  20, epochs:  20, learning rate: 0.005; Accuracy (test, 100 instances): 68.0\n",
        "[and so on for all the combinations]\n",
        "```\n",
        "You will get different results with different hyperparameters.\n",
        "\n",
        "#### TODO Add your answer here (code and output in the format above)\n"
      ]
    },
    {
      "cell_type": "code",
      "execution_count": null,
      "metadata": {
        "id": "G-VKJOUu2BTp"
      },
      "outputs": [],
      "source": [
        "instances_tr = read_data(\"train.dat\")\n",
        "instances_te = read_data(\"test.dat\")\n",
        "tr_percent = [5, 10, 25, 50, 75, 100] # percent of the training dataset to train with\n",
        "num_epochs = [5, 10, 20, 50, 100]     # number of epochs\n",
        "lr_array = [0.005, 0.01, 0.05]        # learning rate\n",
        "\n",
        "for lr in lr_array:\n",
        "  for tr_size in tr_percent:\n",
        "    for epochs in num_epochs:\n",
        "      size =  round(len(instances_tr)*tr_size/100)\n",
        "      pre_instances = instances_tr[0:size]\n",
        "      weights = train_perceptron(pre_instances, lr, epochs)\n",
        "      accuracy = get_accuracy(weights, instances_te)\n",
        "    print(f\"#tr: {len(pre_instances):0}, epochs: {epochs:3}, learning rate: {lr:.3f}; \"\n",
        "            f\"Accuracy (test, {len(instances_te)} instances): {accuracy:.1f}\")"
      ]
    },
    {
      "cell_type": "markdown",
      "source": [
        "**Question 2 Answer**"
      ],
      "metadata": {
        "id": "va_tbgVz-kj_"
      }
    },
    {
      "cell_type": "code",
      "source": [
        "import math\n",
        "import itertools\n",
        "import re\n",
        "\n",
        "def read_data(file_name):\n",
        "    f = open(file_name, 'r')\n",
        "    data = []\n",
        "    # Discard header line\n",
        "    f.readline()\n",
        "    for instance in f.readlines():\n",
        "        if not re.search('\\t', instance):\n",
        "            continue\n",
        "        instance = list(map(int, instance.strip().split('\\t')))\n",
        "        # Add a dummy input so that w0 becomes the bias\n",
        "        instance = [-1] + instance\n",
        "        data.append(instance)\n",
        "    f.close()\n",
        "    return data\n",
        "\n",
        "def dot_product(array1, array2):\n",
        "    return sum(a * b for a, b in zip(array1, array2))\n",
        "\n",
        "def sigmoid(x):\n",
        "    return 1 / (1 + math.exp(-x))\n",
        "\n",
        "def output(weights, instance):\n",
        "    return sigmoid(dot_product(weights, instance[:-1]))\n",
        "\n",
        "def predict(weights, instance):\n",
        "    return 1 if output(weights, instance) >= 0.5 else 0\n",
        "\n",
        "def get_accuracy(weights, instances):\n",
        "    correct = sum(1 for instance in instances if predict(weights, instance) == instance[-1])\n",
        "    return correct * 100 / len(instances)\n",
        "\n",
        "def train_perceptron(instances, lr, epochs):\n",
        "    weights = [0] * (len(instances[0])-1)\n",
        "    for _ in range(epochs):\n",
        "        for instance in instances:\n",
        "            in_value = dot_product(weights, instance[:-1])\n",
        "            output = sigmoid(in_value)\n",
        "            error = instance[-1] - output\n",
        "            for i in range(len(weights)):\n",
        "                weights[i] += lr * error * output * (1 - output) * instance[i]\n",
        "    return weights\n",
        "\n",
        "# Assuming 'train.dat' and 'test.dat' are properly formatted and exist\n",
        "instances_tr = read_data(\"train.dat\")\n",
        "instances_te = read_data(\"test.dat\")\n",
        "\n",
        "tr_percent = [5, 10, 25, 50, 75, 100]\n",
        "num_epochs = [5, 10, 20, 50, 100]\n",
        "lr_array = [0.005, 0.01, 0.05]\n",
        "\n",
        "# Loop through the combinations of training percentages, learning rates, and epochs\n",
        "for lr in lr_array:\n",
        "    for tr_size in tr_percent:\n",
        "        for epochs in num_epochs:\n",
        "            size = round(len(instances_tr) * tr_size / 100)\n",
        "            pre_instances = instances_tr[:size]\n",
        "            weights = train_perceptron(pre_instances, lr, epochs)\n",
        "            accuracy = get_accuracy(weights, instances_te)\n",
        "            print(f\"# tr: {tr_size}, epochs: {epochs}, learning rate: {lr:.3f}; \"\n",
        "                  f\"Accuracy (test, {len(instances_te)} instances): {accuracy:.1f}\")\n"
      ],
      "metadata": {
        "colab": {
          "base_uri": "https://localhost:8080/"
        },
        "id": "v3smw-Zc-lCi",
        "outputId": "6e3e9b2e-372f-4056-9865-5388bddf50bb"
      },
      "execution_count": 7,
      "outputs": [
        {
          "output_type": "stream",
          "name": "stdout",
          "text": [
            "# tr: 5, epochs: 5, learning rate: 0.005; Accuracy (test, 14 instances): 71.4\n",
            "# tr: 5, epochs: 10, learning rate: 0.005; Accuracy (test, 14 instances): 71.4\n",
            "# tr: 5, epochs: 20, learning rate: 0.005; Accuracy (test, 14 instances): 71.4\n",
            "# tr: 5, epochs: 50, learning rate: 0.005; Accuracy (test, 14 instances): 71.4\n",
            "# tr: 5, epochs: 100, learning rate: 0.005; Accuracy (test, 14 instances): 71.4\n",
            "# tr: 10, epochs: 5, learning rate: 0.005; Accuracy (test, 14 instances): 71.4\n",
            "# tr: 10, epochs: 10, learning rate: 0.005; Accuracy (test, 14 instances): 71.4\n",
            "# tr: 10, epochs: 20, learning rate: 0.005; Accuracy (test, 14 instances): 71.4\n",
            "# tr: 10, epochs: 50, learning rate: 0.005; Accuracy (test, 14 instances): 71.4\n",
            "# tr: 10, epochs: 100, learning rate: 0.005; Accuracy (test, 14 instances): 71.4\n",
            "# tr: 25, epochs: 5, learning rate: 0.005; Accuracy (test, 14 instances): 71.4\n",
            "# tr: 25, epochs: 10, learning rate: 0.005; Accuracy (test, 14 instances): 71.4\n",
            "# tr: 25, epochs: 20, learning rate: 0.005; Accuracy (test, 14 instances): 71.4\n",
            "# tr: 25, epochs: 50, learning rate: 0.005; Accuracy (test, 14 instances): 71.4\n",
            "# tr: 25, epochs: 100, learning rate: 0.005; Accuracy (test, 14 instances): 71.4\n",
            "# tr: 50, epochs: 5, learning rate: 0.005; Accuracy (test, 14 instances): 71.4\n",
            "# tr: 50, epochs: 10, learning rate: 0.005; Accuracy (test, 14 instances): 71.4\n",
            "# tr: 50, epochs: 20, learning rate: 0.005; Accuracy (test, 14 instances): 71.4\n",
            "# tr: 50, epochs: 50, learning rate: 0.005; Accuracy (test, 14 instances): 71.4\n",
            "# tr: 50, epochs: 100, learning rate: 0.005; Accuracy (test, 14 instances): 85.7\n",
            "# tr: 75, epochs: 5, learning rate: 0.005; Accuracy (test, 14 instances): 71.4\n",
            "# tr: 75, epochs: 10, learning rate: 0.005; Accuracy (test, 14 instances): 71.4\n",
            "# tr: 75, epochs: 20, learning rate: 0.005; Accuracy (test, 14 instances): 71.4\n",
            "# tr: 75, epochs: 50, learning rate: 0.005; Accuracy (test, 14 instances): 71.4\n",
            "# tr: 75, epochs: 100, learning rate: 0.005; Accuracy (test, 14 instances): 85.7\n",
            "# tr: 100, epochs: 5, learning rate: 0.005; Accuracy (test, 14 instances): 71.4\n",
            "# tr: 100, epochs: 10, learning rate: 0.005; Accuracy (test, 14 instances): 71.4\n",
            "# tr: 100, epochs: 20, learning rate: 0.005; Accuracy (test, 14 instances): 71.4\n",
            "# tr: 100, epochs: 50, learning rate: 0.005; Accuracy (test, 14 instances): 71.4\n",
            "# tr: 100, epochs: 100, learning rate: 0.005; Accuracy (test, 14 instances): 71.4\n",
            "# tr: 5, epochs: 5, learning rate: 0.010; Accuracy (test, 14 instances): 71.4\n",
            "# tr: 5, epochs: 10, learning rate: 0.010; Accuracy (test, 14 instances): 71.4\n",
            "# tr: 5, epochs: 20, learning rate: 0.010; Accuracy (test, 14 instances): 71.4\n",
            "# tr: 5, epochs: 50, learning rate: 0.010; Accuracy (test, 14 instances): 71.4\n",
            "# tr: 5, epochs: 100, learning rate: 0.010; Accuracy (test, 14 instances): 28.6\n",
            "# tr: 10, epochs: 5, learning rate: 0.010; Accuracy (test, 14 instances): 71.4\n",
            "# tr: 10, epochs: 10, learning rate: 0.010; Accuracy (test, 14 instances): 71.4\n",
            "# tr: 10, epochs: 20, learning rate: 0.010; Accuracy (test, 14 instances): 71.4\n",
            "# tr: 10, epochs: 50, learning rate: 0.010; Accuracy (test, 14 instances): 71.4\n",
            "# tr: 10, epochs: 100, learning rate: 0.010; Accuracy (test, 14 instances): 71.4\n",
            "# tr: 25, epochs: 5, learning rate: 0.010; Accuracy (test, 14 instances): 71.4\n",
            "# tr: 25, epochs: 10, learning rate: 0.010; Accuracy (test, 14 instances): 71.4\n",
            "# tr: 25, epochs: 20, learning rate: 0.010; Accuracy (test, 14 instances): 71.4\n",
            "# tr: 25, epochs: 50, learning rate: 0.010; Accuracy (test, 14 instances): 71.4\n",
            "# tr: 25, epochs: 100, learning rate: 0.010; Accuracy (test, 14 instances): 28.6\n",
            "# tr: 50, epochs: 5, learning rate: 0.010; Accuracy (test, 14 instances): 71.4\n",
            "# tr: 50, epochs: 10, learning rate: 0.010; Accuracy (test, 14 instances): 71.4\n",
            "# tr: 50, epochs: 20, learning rate: 0.010; Accuracy (test, 14 instances): 71.4\n",
            "# tr: 50, epochs: 50, learning rate: 0.010; Accuracy (test, 14 instances): 85.7\n",
            "# tr: 50, epochs: 100, learning rate: 0.010; Accuracy (test, 14 instances): 85.7\n",
            "# tr: 75, epochs: 5, learning rate: 0.010; Accuracy (test, 14 instances): 71.4\n",
            "# tr: 75, epochs: 10, learning rate: 0.010; Accuracy (test, 14 instances): 71.4\n",
            "# tr: 75, epochs: 20, learning rate: 0.010; Accuracy (test, 14 instances): 71.4\n",
            "# tr: 75, epochs: 50, learning rate: 0.010; Accuracy (test, 14 instances): 85.7\n",
            "# tr: 75, epochs: 100, learning rate: 0.010; Accuracy (test, 14 instances): 85.7\n",
            "# tr: 100, epochs: 5, learning rate: 0.010; Accuracy (test, 14 instances): 71.4\n",
            "# tr: 100, epochs: 10, learning rate: 0.010; Accuracy (test, 14 instances): 71.4\n",
            "# tr: 100, epochs: 20, learning rate: 0.010; Accuracy (test, 14 instances): 71.4\n",
            "# tr: 100, epochs: 50, learning rate: 0.010; Accuracy (test, 14 instances): 71.4\n",
            "# tr: 100, epochs: 100, learning rate: 0.010; Accuracy (test, 14 instances): 71.4\n",
            "# tr: 5, epochs: 5, learning rate: 0.050; Accuracy (test, 14 instances): 71.4\n",
            "# tr: 5, epochs: 10, learning rate: 0.050; Accuracy (test, 14 instances): 71.4\n",
            "# tr: 5, epochs: 20, learning rate: 0.050; Accuracy (test, 14 instances): 28.6\n",
            "# tr: 5, epochs: 50, learning rate: 0.050; Accuracy (test, 14 instances): 28.6\n",
            "# tr: 5, epochs: 100, learning rate: 0.050; Accuracy (test, 14 instances): 28.6\n",
            "# tr: 10, epochs: 5, learning rate: 0.050; Accuracy (test, 14 instances): 71.4\n",
            "# tr: 10, epochs: 10, learning rate: 0.050; Accuracy (test, 14 instances): 71.4\n",
            "# tr: 10, epochs: 20, learning rate: 0.050; Accuracy (test, 14 instances): 71.4\n",
            "# tr: 10, epochs: 50, learning rate: 0.050; Accuracy (test, 14 instances): 28.6\n",
            "# tr: 10, epochs: 100, learning rate: 0.050; Accuracy (test, 14 instances): 28.6\n",
            "# tr: 25, epochs: 5, learning rate: 0.050; Accuracy (test, 14 instances): 71.4\n",
            "# tr: 25, epochs: 10, learning rate: 0.050; Accuracy (test, 14 instances): 71.4\n",
            "# tr: 25, epochs: 20, learning rate: 0.050; Accuracy (test, 14 instances): 28.6\n",
            "# tr: 25, epochs: 50, learning rate: 0.050; Accuracy (test, 14 instances): 28.6\n",
            "# tr: 25, epochs: 100, learning rate: 0.050; Accuracy (test, 14 instances): 28.6\n",
            "# tr: 50, epochs: 5, learning rate: 0.050; Accuracy (test, 14 instances): 85.7\n",
            "# tr: 50, epochs: 10, learning rate: 0.050; Accuracy (test, 14 instances): 85.7\n",
            "# tr: 50, epochs: 20, learning rate: 0.050; Accuracy (test, 14 instances): 85.7\n",
            "# tr: 50, epochs: 50, learning rate: 0.050; Accuracy (test, 14 instances): 85.7\n",
            "# tr: 50, epochs: 100, learning rate: 0.050; Accuracy (test, 14 instances): 85.7\n",
            "# tr: 75, epochs: 5, learning rate: 0.050; Accuracy (test, 14 instances): 71.4\n",
            "# tr: 75, epochs: 10, learning rate: 0.050; Accuracy (test, 14 instances): 85.7\n",
            "# tr: 75, epochs: 20, learning rate: 0.050; Accuracy (test, 14 instances): 85.7\n",
            "# tr: 75, epochs: 50, learning rate: 0.050; Accuracy (test, 14 instances): 85.7\n",
            "# tr: 75, epochs: 100, learning rate: 0.050; Accuracy (test, 14 instances): 85.7\n",
            "# tr: 100, epochs: 5, learning rate: 0.050; Accuracy (test, 14 instances): 71.4\n",
            "# tr: 100, epochs: 10, learning rate: 0.050; Accuracy (test, 14 instances): 71.4\n",
            "# tr: 100, epochs: 20, learning rate: 0.050; Accuracy (test, 14 instances): 71.4\n",
            "# tr: 100, epochs: 50, learning rate: 0.050; Accuracy (test, 14 instances): 71.4\n",
            "# tr: 100, epochs: 100, learning rate: 0.050; Accuracy (test, 14 instances): 71.4\n"
          ]
        }
      ]
    },
    {
      "cell_type": "markdown",
      "metadata": {
        "id": "OFB9MtwML24O"
      },
      "source": [
        "### Question 3\n",
        "Write a couple paragraphs interpreting the results with all the combinations of hyperparameters. Drawing a plot will probably help you make a point. In particular, answer the following:\n",
        "- A. Do you need to train with all the training dataset to get the highest accuracy with the test dataset?\n",
        "- B. How do you justify that training the second run obtains worse accuracy than the first one (despite the second one uses more training data)?\n",
        "   ```\n",
        "#tr: 100, epochs:  20, learning rate: 0.050; Accuracy (test, 100 instances): 71.0\n",
        "#tr: 200, epochs:  20, learning rate: 0.005; Accuracy (test, 100 instances): 68.0\n",
        "```\n",
        "- C. Can you get higher accuracy with additional hyperparameters (higher than `80.0`)?\n",
        "- D. Is it always worth training for more epochs (while keeping all other hyperparameters fixed)?\n",
        "\n",
        "#### TODO: Add your answer here (code and text)\n",
        "\n"
      ]
    },
    {
      "cell_type": "markdown",
      "source": [
        "**Question 3 Answer**"
      ],
      "metadata": {
        "id": "z5yxa9plAMGE"
      }
    },
    {
      "cell_type": "markdown",
      "metadata": {
        "id": "38rA_Kp3wiBX"
      },
      "source": [
        "We can learn a lot about the best circumstances for training and generalization by comparing the outcomes of a machine learning model with different combinations of hyperparameters. Your results offer a useful case study for investigating the effects of learning rate, epoch count, and training data quantity on model correctness.\n",
        "\n",
        "**A. Training with the Entire Dataset:**\n",
        "Many people think that better performance is correlated with more data. This isn't always the case, though. Based on the findings:\n",
        "\n",
        "The accuracy was 71.0% using 20 epochs, 100 training examples, and a learning rate of 0.050.\n",
        "Accuracy dropped to 68.0% when the training size was increased to 200 instances and the learning rate was decreased to 0.005 for the same number of epochs.\n",
        "\n",
        "This suggests that improving the amount of the dataset alone does not ensure improved model performance. Important considerations include the training set's representativeness, the quality of the data, and how well hyperparameters (such learning rate) match the growing complexity of the data. This implies that if the chosen subset is accurate and the model is well calibrated, it might not be required to train using the complete dataset."
      ]
    },
    {
      "cell_type": "markdown",
      "source": [
        "**B. Justification for Decreased Accuracy with More Training Data**\n",
        "Several possible problems are highlighted by the second training run, which had additional information but a lower accuracy:\n",
        "\n",
        "**Learning Rate Sensitivity:** Considering the larger data quantity across the same number of epochs, the lower learning rate of 0.005 could not have been sufficient to converge to the optimal solution. It's possible that a greater learning rate could have better handled the complexity increase and enabled the model to more efficiently modify its weights.\n",
        "\n",
        "**Quality & Representativeness of Additional Data:** The learning process may have been distorted, resulting in worse generalization on the test set, if the extra 100 cases were less representative of the whole dataset or added noise."
      ],
      "metadata": {
        "id": "_2VgdYK95OkT"
      }
    },
    {
      "cell_type": "markdown",
      "source": [
        "**C. Achieving Higher Accuracy:**\n",
        "It may be crucial to investigate new hyperparameters and improve current ones in order to exceed the 80.0% accuracy threshold:\n",
        "\n",
        "To lessen overfitting, regularization methods such as L1/L2 could be implemented, particularly for bigger datasets.\n",
        "The model may adapt more effectively to various training phases if the learning rate is dynamically changed using learning rate schedules or adaptive learning rate techniques like AdaGrad or Adam.\n",
        "Improving the model's feature engineering or adding ensemble methods may also help it generalize more effectively."
      ],
      "metadata": {
        "id": "JdqHbavt55o7"
      }
    },
    {
      "cell_type": "markdown",
      "source": [
        "**D. Training Duration (Epochs):**\n",
        "It is not always advantageous to increase the number of epochs. Overfitting, in which the model absorbs the variation in the training data instead of drawing generalizations from it, might result from training for additional epochs. Finding the ideal number of epochs can be aided by tracking performance on a validation set. Regardless of gains in training accuracy, it could be time to discontinue training if the precision of validation starts to plateau or decline.\n",
        "\n",
        "**Visual Aid: Plotting Hyperparameter Effects**\n",
        "These arguments can be clearly illustrated by plotting the findings. Plotting accuracy against epochs for varying training sizes and learning rates, for instance, might demonstrate when further training stops being beneficial and how rapidly various configurations converge."
      ],
      "metadata": {
        "id": "m3V1t8Op6v_I"
      }
    },
    {
      "cell_type": "code",
      "source": [
        "import matplotlib.pyplot as plt\n",
        "\n",
        "# Hypothetical accuracies over epochs\n",
        "epochs = [5, 10, 15, 20]\n",
        "accuracy_100_lr_005 = [65, 68, 70, 71]  # Example accuracies for tr: 100, lr: 0.050\n",
        "accuracy_200_lr_0005 = [64, 65, 67, 68]  # Example accuracies for tr: 200, lr: 0.005\n",
        "\n",
        "plt.plot(epochs, accuracy_100_lr_005, label='100 instances, lr: 0.050')\n",
        "plt.plot(epochs, accuracy_200_lr_0005, label='200 instances, lr: 0.005')\n",
        "plt.xlabel('Epochs')\n",
        "plt.ylabel('Test Accuracy (%)')\n",
        "plt.title('Effect of Training Size and Learning Rate on Accuracy')\n",
        "plt.legend()\n",
        "plt.show()\n"
      ],
      "metadata": {
        "colab": {
          "base_uri": "https://localhost:8080/",
          "height": 472
        },
        "id": "-D72d8vV7426",
        "outputId": "f257a734-b1c5-43f1-ca1c-49e5e7cf570c"
      },
      "execution_count": 2,
      "outputs": [
        {
          "output_type": "display_data",
          "data": {
            "text/plain": [
              "<Figure size 640x480 with 1 Axes>"
            ],
            "image/png": "[encoded data removed]"
          },
          "metadata": {}
        }
      ]
    }
  ],
  "metadata": {
    "accelerator": "GPU",
    "colab": {
      "provenance": []
    },
    "kernelspec": {
      "display_name": "Python 3",
      "name": "python3"
    },
    "language_info": {
      "codemirror_mode": {
        "name": "ipython",
        "version": 3
      },
      "file_extension": ".py",
      "mimetype": "text/x-python",
      "name": "python",
      "nbconvert_exporter": "python",
      "pygments_lexer": "ipython3",
      "version": "3.9.6"
    }
  },
  "nbformat": 4,
  "nbformat_minor": 0
}